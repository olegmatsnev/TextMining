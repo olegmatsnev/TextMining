{
 "cells": [
  {
   "cell_type": "code",
   "execution_count": null,
   "metadata": {},
   "outputs": [],
   "source": [
    "# this is an ad-hoc script (or rather a stack of commands since the whole thing is \n",
    "# meant to be run in Jupyter) to analyse a collection of emails converted into a single *.csv file\n",
    "import pandas as pd"
   ]
  },
  {
   "cell_type": "code",
   "execution_count": null,
   "metadata": {},
   "outputs": [],
   "source": [
    "file = r'full_path' # replace full_path with full path to the *.csv file"
   ]
  },
  {
   "cell_type": "code",
   "execution_count": null,
   "metadata": {},
   "outputs": [],
   "source": [
    "df = pd.read_csv(file)\n",
    "df.columns # to figure out the structure of the dataframe -- in this case it turned out it had 6 columns"
   ]
  },
  {
   "cell_type": "code",
   "execution_count": null,
   "metadata": {},
   "outputs": [],
   "source": [
    "df = pd.read_csv(file, names = ['Subject', 'From', 'To', 'Date', 'Something', 'Message']) # not yet clear what the 5th column is for"
   ]
  },
  {
   "cell_type": "code",
   "execution_count": null,
   "metadata": {},
   "outputs": [],
   "source": [
    "unique_senders = df['From'].unique()\n",
    "len(unique_senders.tolist()) # number of unique entries\n",
    "listed_unique_senders = unique_senders.tolist() # list of unique entries"
   ]
  },
  {
   "cell_type": "code",
   "execution_count": null,
   "metadata": {},
   "outputs": [],
   "source": [
    "unique_recipients = df['To'].unique()\n",
    "len(unique_recipients.tolist()) # number of unique entries\n",
    "listed_unique_recipients = unique_recipients.tolist() # list of unique entries"
   ]
  },
  {
   "cell_type": "code",
   "execution_count": null,
   "metadata": {},
   "outputs": [],
   "source": [
    "# this one is needed to understand the time scope of the archive\n",
    "sorted_dates = pd.to_datetime(df['Date'])\n",
    "sorted_dates.sort_values()"
   ]
  },
  {
   "cell_type": "code",
   "execution_count": null,
   "metadata": {},
   "outputs": [],
   "source": [
    "# one obvious way to analyze text data is to look for specific words in it\n",
    "new_df = df[df['Message'].str.contains('Keyword', na=False)] # replace Keyword with your search term\n",
    "for i in new_df['Message']: # print all entries that contain the Keyword\n",
    "    print(i)"
   ]
  },
  {
   "cell_type": "code",
   "execution_count": null,
   "metadata": {},
   "outputs": [],
   "source": [
    "# another is to see how the emails are distributed across the time range\n",
    "df['Date'] = pd.to_datetime(df['Date'])"
   ]
  },
  {
   "cell_type": "code",
   "execution_count": null,
   "metadata": {},
   "outputs": [],
   "source": [
    "newer_df = df[(df['Date'] > '1996-12-31 23:59:59') & (df['Date'] < '1998-01-01 00:00:00')]\n",
    "len(newer_df) # how many emails fall within the time range specified above"
   ]
  },
  {
   "cell_type": "code",
   "execution_count": null,
   "metadata": {},
   "outputs": [],
   "source": [
    "df.From.value_counts() # top 30 senders with numbers of emails sent by each of them"
   ]
  },
  {
   "cell_type": "code",
   "execution_count": null,
   "metadata": {},
   "outputs": [],
   "source": [
    "sum(df.From.value_counts()[0:30]) # and how many emails do the top 30 seders account for"
   ]
  },
  {
   "cell_type": "code",
   "execution_count": null,
   "metadata": {},
   "outputs": [],
   "source": [
    "df.To.value_counts() #  top 30 recipients with numbers of emails sent to each of them"
   ]
  }
 ],
 "metadata": {
  "kernelspec": {
   "display_name": "Python 3",
   "language": "python",
   "name": "python3"
  },
  "language_info": {
   "codemirror_mode": {
    "name": "ipython",
    "version": 3
   },
   "file_extension": ".py",
   "mimetype": "text/x-python",
   "name": "python",
   "nbconvert_exporter": "python",
   "pygments_lexer": "ipython3",
   "version": "3.6.4"
  }
 },
 "nbformat": 4,
 "nbformat_minor": 2
}
