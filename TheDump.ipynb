{
 "cells": [
  {
   "cell_type": "code",
   "execution_count": 1,
   "metadata": {},
   "outputs": [],
   "source": [
    "# this is an ad-hoc script (or rather a stack of commands since the whole thing is \n",
    "# meant to be run in Jupyter) to analyse a collection of emails converted into a single *.csv file\n",
    "import pandas as pd"
   ]
  },
  {
   "cell_type": "code",
   "execution_count": 2,
   "metadata": {},
   "outputs": [],
   "source": [
    "file = r'full_path' # replace full_path with full path to the *.csv file"
   ]
  },
  {
   "cell_type": "code",
   "execution_count": null,
   "metadata": {},
   "outputs": [],
   "source": [
    "df = pd.read_csv(file)\n",
    "df.columns # to figure out the structure of the dataframe -- in this case it turned out it had 6 columns"
   ]
  },
  {
   "cell_type": "code",
   "execution_count": 3,
   "metadata": {},
   "outputs": [],
   "source": [
    "df = pd.read_csv(file, names = ['Subject', 'From', 'To', 'Date', 'Something', 'Message']) # not yet clear what the 5th column is for"
   ]
  },
  {
   "cell_type": "code",
   "execution_count": 7,
   "metadata": {},
   "outputs": [],
   "source": [
    "unique_senders = df['From'].unique()\n",
    "len(unique_senders.tolist()) # number of unique entries\n",
    "listed_unique_senders = unique_senders.tolist() # list of unique entries"
   ]
  },
  {
   "cell_type": "code",
   "execution_count": 8,
   "metadata": {},
   "outputs": [],
   "source": [
    "unique_recipients = df['To'].unique()\n",
    "len(unique_recipients.tolist()) # number of unique entries\n",
    "listed_unique_recipients = unique_recipients.tolist() # list of unique entries"
   ]
  },
  {
   "cell_type": "code",
   "execution_count": 9,
   "metadata": {
    "collapsed": true
   },
   "outputs": [
    {
     "data": {
      "text/plain": [
       "50205    1997-01-01 02:19:00\n",
       "50206    1997-01-01 07:43:00\n",
       "50207    1997-01-01 09:03:00\n",
       "50208    1997-01-01 11:11:00\n",
       "50209    1997-01-02 07:22:00\n",
       "50210    1997-01-02 11:22:00\n",
       "50211    1997-01-02 21:26:00\n",
       "50212    1997-01-03 06:38:00\n",
       "50213    1997-01-03 08:57:00\n",
       "50214    1997-01-03 19:28:00\n",
       "50215    1997-01-06 01:54:00\n",
       "50216    1997-01-07 20:55:00\n",
       "50217    1997-01-09 02:35:00\n",
       "50218    1997-01-11 20:25:00\n",
       "50219    1997-01-12 03:23:00\n",
       "50220    1997-01-17 23:32:00\n",
       "50221    1997-01-20 19:27:00\n",
       "169312   2001-12-31 16:40:00\n",
       "169313   2001-12-31 16:58:00\n",
       "217106   2001-12-31 18:15:00\n",
       "217107   2001-12-31 18:27:00\n",
       "217108   2001-12-31 19:02:00\n",
       "217109   2001-12-31 20:31:00\n",
       "217110   2001-12-31 21:01:00\n",
       "217111   2001-12-31 21:51:00\n",
       "217112   2001-12-31 22:00:00\n",
       "217113   2001-12-31 23:26:00\n",
       "217114   2001-12-31 23:28:00\n",
       "217115   2001-12-31 23:31:00\n",
       "95658    2004-08-20 18:47:00\n",
       "                 ...        \n",
       "226779   2019-01-15 20:46:00\n",
       "226773   2019-01-15 20:46:00\n",
       "226780   2019-01-15 20:46:00\n",
       "226782   2019-01-15 20:46:00\n",
       "226783   2019-01-15 20:46:00\n",
       "226785   2019-01-15 20:46:00\n",
       "226786   2019-01-15 20:46:00\n",
       "226787   2019-01-15 20:46:00\n",
       "226788   2019-01-15 20:46:00\n",
       "226781   2019-01-15 20:46:00\n",
       "226772   2019-01-15 20:46:00\n",
       "226771   2019-01-15 20:46:00\n",
       "226770   2019-01-15 20:46:00\n",
       "226755   2019-01-15 20:46:00\n",
       "226756   2019-01-15 20:46:00\n",
       "226757   2019-01-15 20:46:00\n",
       "226758   2019-01-15 20:46:00\n",
       "226759   2019-01-15 20:46:00\n",
       "226760   2019-01-15 20:46:00\n",
       "226761   2019-01-15 20:46:00\n",
       "226762   2019-01-15 20:46:00\n",
       "226763   2019-01-15 20:46:00\n",
       "226764   2019-01-15 20:46:00\n",
       "226765   2019-01-15 20:46:00\n",
       "226766   2019-01-15 20:46:00\n",
       "226767   2019-01-15 20:46:00\n",
       "226768   2019-01-15 20:46:00\n",
       "226769   2019-01-15 20:46:00\n",
       "226753   2019-01-15 20:46:00\n",
       "226796   2019-01-15 20:46:00\n",
       "Name: Date, Length: 239904, dtype: datetime64[ns]"
      ]
     },
     "execution_count": 9,
     "metadata": {},
     "output_type": "execute_result"
    }
   ],
   "source": [
    "# this one is needed to understand the time scope of the archive\n",
    "sorted_dates = pd.to_datetime(df['Date'])\n",
    "sorted_dates.sort_values()"
   ]
  },
  {
   "cell_type": "code",
   "execution_count": 217,
   "metadata": {},
   "outputs": [],
   "source": [
    "# one obvious way to analyze text data is to look for specific words in it\n",
    "new_df = df[df['Message'].str.contains('Keyword', na=False)] # replace Keyword with your search term\n",
    "for i in new_df['Message']: # print all entries that contain the Keyword\n",
    "    print(i)"
   ]
  },
  {
   "cell_type": "code",
   "execution_count": 142,
   "metadata": {},
   "outputs": [],
   "source": [
    "# another is to see how the emails are distributed across the time range\n",
    "df['Date'] = pd.to_datetime(df['Date'])"
   ]
  },
  {
   "cell_type": "code",
   "execution_count": 204,
   "metadata": {
    "collapsed": true
   },
   "outputs": [
    {
     "data": {
      "text/plain": [
       "17"
      ]
     },
     "execution_count": 204,
     "metadata": {},
     "output_type": "execute_result"
    }
   ],
   "source": [
    "newer_df = df[(df['Date'] > '1996-12-31 23:59:59') & (df['Date'] < '1998-01-01 00:00:00')]\n",
    "len(newer_df) # how many emails fall within the time range specified above"
   ]
  },
  {
   "cell_type": "code",
   "execution_count": 22,
   "metadata": {},
   "outputs": [
    {
     "data": {
      "text/plain": [
       "Кирилл  Фролов <frolov_moskva@mail.ru>               61046\n",
       "M M <monitorrus2013@gmail.com>                       13366\n",
       "александр усовский <alvarus@list.ru>                  6907\n",
       "Хисамов Искандер <ihisamov@yandex.ru>                 6406\n",
       "КГ ЛУГАНСК <sckklugx@mail.ru>                         5664\n",
       "Наташа Юрина <referent75@mail.ru>                     4796\n",
       "Мининформ ЛНР <lnr.mininfo@yandex.ru>                 3670\n",
       "Мария Столярова <ml100@yandex.ru>                     3469\n",
       "editor11@dnr-online.ru                                3370\n",
       "Facebook <notification+zrdolpvpo6lf@facebookmai       2924\n",
       "Draft7771 <draft7771@ya.ru>                           2584\n",
       "ООД Россия Молодая <ood.rumol@yandex.ru>              2529\n",
       "Союз Добровольцев Донбасса <sdonbassa@yandex.ru>      2246\n",
       "Draft7771 <draft7771@yandex.ru>                       2137\n",
       "Департамент информационной политики ДНР <info_dvp     1865\n",
       "Facebook <update+zrdolpvpo6lf@facebookmail.com>       1668\n",
       "Стрелков Игорь <igo-strelko@yandex.ru>                1629\n",
       "Politline <politline@gmail.com>                       1611\n",
       "Draft7771 <Draft7771@yandex.ru>                       1482\n",
       "Ігор Лавриненко <igor.lavrinenko@gmail.com>           1459\n",
       "Александр Луговой <lugowoy.shura2@yandex.ru>          1281\n",
       "Шилова Виктория <shilova51@mail.ru>                   1273\n",
       "Корнилов Владимир <vvk68@mail.ru>                     1257\n",
       "авас бедросович <mission201705@gmail.com>             1199\n",
       "никита максимов <notification+kr4mgr5s5gyx@facebo     1185\n",
       "Мария <ml100@yandex.ru>                               1168\n",
       "Леонид Муравьев <89179012978@mail.ru>                 1138\n",
       "Facebook <notification+kjdmp57p1i5m@facebookmai        994\n",
       "belechka <belechka@yandex.ru>                          910\n",
       "Игорь Лавриненко <igor_lavrinenko@mail.ru>             877\n",
       "                                                     ...  \n",
       "Prestivo - Amazon Marketplace <zrpfvkwqs08df28@ma        1\n",
       "Anna <formaxic@gmail.com>                                1\n",
       "Андрей Смирнов <press.center2015@yandex.ru>              1\n",
       "Дмитрий Зайцев <zayicev-3tv@mail.ru>                     1\n",
       "Кирилл Хомерики <homeferma@gmail.com>                    1\n",
       "Наталия Орловская <nataly_orl@mail.ru>                   1\n",
       "Ser Sha <shs1951@icloud.com>                             1\n",
       "PHILLIPS <contemporary@phillips.com>                     1\n",
       "Nataliia Zabolotna <n.zabolotna@ukr.net>                 1\n",
       "Олеся Бовсуновская <oo_la_la@mail.ru>                    1\n",
       "Rom Sladkiy <ya-voanerges@rambler.ru>                    1\n",
       "пресс-служба Единое Отечество <e_otechestvo@far          1\n",
       "Victoria Unikel <vikaunikel@gmail.com>                   1\n",
       "foxy lady <foxy___lady@mail.ru>                          1\n",
       "Мир Переводов <sanyokartlife@gmail.com>                  1\n",
       "сергей иванов <sergeyts@bk.ru>                           1\n",
       "info <info@adminadmin.ru>                                1\n",
       "Екатерина Бында <bynda.ekaterina@mail.ru>                1\n",
       "no-reply@party-boom.ru                                   1\n",
       "S7 Airlines <cc_goup@s7.ru>                              1\n",
       "Сергей Копин на Facebook <notification+kjdmp57p1i        1\n",
       "Serge A. Salamanka <salamanka.serge@gmail.com>           1\n",
       "Yevgeniya MYASNIKOVA <ymyasnikova@beteninternat          1\n",
       "Кулинарный дом ИБИС <kuldom.ibis@gmail.com>              1\n",
       "2011 <2011@novayagazeta.ru>                              1\n",
       "Аэрофлот <info@aeroflot.ru>                              1\n",
       "алина Гавва <m.i.i.s.alinochka@yandex.ru>                1\n",
       "Bids New York <BidsNewYork@phillips.com>                 1\n",
       "ЦУП МедПрофи Клиника <urohelp16@yandex.ru>               1\n",
       "Алёна Азеханова <ctvmz2009@mail.ru>                      1\n",
       "Name: From, Length: 11482, dtype: int64"
      ]
     },
     "execution_count": 22,
     "metadata": {},
     "output_type": "execute_result"
    }
   ],
   "source": [
    "df.From.value_counts() # top 30 senders with numbers of emails sent by each of them"
   ]
  },
  {
   "cell_type": "code",
   "execution_count": 21,
   "metadata": {
    "collapsed": true
   },
   "outputs": [
    {
     "data": {
      "text/plain": [
       "142110"
      ]
     },
     "execution_count": 21,
     "metadata": {},
     "output_type": "execute_result"
    }
   ],
   "source": [
    "sum(df.From.value_counts()[0:30]) # and how many emails do the top 30 seders account for"
   ]
  },
  {
   "cell_type": "code",
   "execution_count": 23,
   "metadata": {},
   "outputs": [
    {
     "data": {
      "text/plain": [
       "\"е <2490500@gmail.com>, к <informbox2014@yandex.ru\"    5413\n",
       "ирина полторацкая <i_poltorackaya@mail.ru>             5358\n",
       "Кирилл  Фролов <frolov_moskva@mail.ru>                 5179\n",
       "\"Алина Лисенкова <Uluwatu09@gmail.com>, е <2490500\"    4444\n",
       "Хисамов Искандер <ihisamov@yandex.ru>                  4045\n",
       "Кирилл Фролов <frolov_moskva@mail.ru>                  3498\n",
       "Наташа Юрина <referent75@mail.ru>                      2879\n",
       "Искандер Хисамов <ihisamov@yandex.ru>                  2575\n",
       "Мария Столярова <ml100@yandex.ru>                      2217\n",
       "Draft7771 <draft7771@yandex.ru>                        2183\n",
       "referent75@mail.ru                                     2038\n",
       "frolov_moskva@mail.ru                                  1962\n",
       "Draft7771 <draft7771@ya.ru>                            1943\n",
       "editor11@dnr-online.ru                                 1796\n",
       "Владимир Букарский <v-b1973@mail.ru>                   1732\n",
       "konstantin@zatulin.ru                                  1656\n",
       "александр усовский <alvarus@list.ru>                   1585\n",
       "ihisamov@yandex.ru                                     1492\n",
       "nradio <nradio@list.ru>                                1470\n",
       "Fr. Vsevolod Chaplin <fchaplin@mospatr.ru>             1450\n",
       "Стрелков Игорь <igo-strelko@yandex.ru>                 1410\n",
       "Инна Крапивцева <i-krapivceva@yandex.ru>               1410\n",
       "\"е <2490500@gmail.com>, к <r1993may@gmail.com>, н \"    1391\n",
       "Никитина Елена Николаевна <editor11@dnr-online.ru      1382\n",
       "edinoe@otechestvo.org.ua                               1236\n",
       "Yevheniya Kravchuk <yevheniya.kravchuk@gmail.com>      1177\n",
       "shluz <shluz@otechestvo.org.ua>                        1125\n",
       "ml100@yandex.ru                                        1096\n",
       "\"авас бедросович <mission201705@gmail.com>, sckk20\"    1071\n",
       "\"к <r1993may@gmail.com>, е <2490500@gmail.com>, н \"    1071\n",
       "                                                       ... \n",
       "Дмитрий <dima@artkuhni.ru>                                1\n",
       "\"Christianbook.ru <christbook@yandex.ru>, Юрий М\"         1\n",
       "Natalia <referent75@mail.ru>                              1\n",
       "\"institute@materik.ru, i-sng@yandex.ru, solosv42@m\"       1\n",
       "jena@a.bestmassagechair.org <jena@a.bestmassage           1\n",
       "admin@fishki.net                                          1\n",
       "Евгений  Никифоров <en@radonezh.ru>                       1\n",
       "Алишер <ambassador@uzbekistan.org.ua>                     1\n",
       "\"Fr. Vsevolod Chaplin <1@ovco.org>, ракитина ольга\"       1\n",
       "AEE <office.energyefficiency2015@gmail.com>               1\n",
       "mama_soldata@ukr.net                                      1\n",
       "info@smartpozyczka.pl <info@smartpozyczka.pl>             1\n",
       "\"2_ЦБ Вохмин СВ <vohmin55@mail.ru>, 2_ФРОЛОВ Кирил\"       1\n",
       "Администратор chartvideo <chartvideo@ya.ru>               1\n",
       "nb@rusistin.ru                                            1\n",
       "\"Oleg Strelnikov <ostrelnikov@gmail.com>, Ed Polec\"       1\n",
       "nyata@yandex.ru <nyata@yandex.ru>                         1\n",
       "\"<konstantin@zatulin.ru>, <solosv@mail.ru>, <Lobma\"       1\n",
       "max-apwara@mail.ru                                        1\n",
       "\"m@7734321.ru, garmash.lub@yandex.ru, kulturolog@y\"       1\n",
       "\"Ксензов Максим Юрьевич <M.Ksenzov@rkn.gov.ru>, Жа\"       1\n",
       "d.berezicki@wp.pl                                         1\n",
       "id76@yandex.ru                                            1\n",
       "\"Ирина Баглай <irisbaglay1@rambler.ru>, vklimus@uk\"       1\n",
       "\"svrentv@gmail.com, Александра Плакида <kaza44ina@\"       1\n",
       "nvikulina@travelland.ru                                   1\n",
       "Кудряшов Павел <pavel.kudryashov@forumspb.com>            1\n",
       "Janeiro25@yandex.ru                                       1\n",
       "настя дзюнь <nastua830@mail.ru>                           1\n",
       "k-bekker@mail.ua <k-bekker@mail.ua>                       1\n",
       "Name: To, Length: 18260, dtype: int64"
      ]
     },
     "execution_count": 23,
     "metadata": {},
     "output_type": "execute_result"
    }
   ],
   "source": [
    "df.To.value_counts() #  top 30 recipients with numbers of emails sent to each of them"
   ]
  }
 ],
 "metadata": {
  "kernelspec": {
   "display_name": "Python 3",
   "language": "python",
   "name": "python3"
  },
  "language_info": {
   "codemirror_mode": {
    "name": "ipython",
    "version": 3
   },
   "file_extension": ".py",
   "mimetype": "text/x-python",
   "name": "python",
   "nbconvert_exporter": "python",
   "pygments_lexer": "ipython3",
   "version": "3.6.4"
  }
 },
 "nbformat": 4,
 "nbformat_minor": 2
}
